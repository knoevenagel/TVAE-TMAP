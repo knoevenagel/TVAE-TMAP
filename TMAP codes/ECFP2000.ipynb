{
 "cells": [
  {
   "cell_type": "code",
   "execution_count": 1,
   "id": "92cdac2e",
   "metadata": {},
   "outputs": [],
   "source": [
    "import pandas as pd\n",
    "import tmap\n",
    "from faerun import Faerun\n",
    "from mhfp.encoder import MHFPEncoder\n",
    "from rdkit.Chem import AllChem\n",
    "from rdkit import Chem"
   ]
  },
  {
   "cell_type": "code",
   "execution_count": 2,
   "id": "f4a88153",
   "metadata": {},
   "outputs": [
    {
     "data": {
      "text/plain": [
       "(2000, 2)"
      ]
     },
     "execution_count": 2,
     "metadata": {},
     "output_type": "execute_result"
    }
   ],
   "source": [
    "dff = pd.read_csv(r'C:\\Users\\Administrator\\Desktop\\前2000.csv')\n",
    "dff.shape"
   ]
  },
  {
   "cell_type": "code",
   "execution_count": 4,
   "id": "4b9616cc",
   "metadata": {},
   "outputs": [],
   "source": [
    "bits = 1024\n",
    "\n",
    "mols = [Chem.MolFromSmiles(s) for s in dff['ligandsm']]\n",
    "ECFP4_fps = [AllChem.GetMorganFingerprintAsBitVect(x,2,bits) for x in mols]\n",
    "ecfp4_lists = [tmap.VectorUchar(list(fp)) for fp in ECFP4_fps]\n",
    "# Initialize the Minhash\n",
    "enc = tmap.Minhash(bits)\n",
    "\n",
    "# Initialize the LSH Forest\n",
    "lf_ecfp4 = tmap.LSHForest(bits)\n",
    "\n",
    "# Add the Fingerprints to the LSH Forest and index\n",
    "lf_ecfp4.batch_add(enc.batch_from_binary_array(ecfp4_lists))\n",
    "lf_ecfp4.index()"
   ]
  },
  {
   "cell_type": "code",
   "execution_count": 6,
   "id": "6d3d5a0f",
   "metadata": {},
   "outputs": [],
   "source": [
    "x, y, s, t, _ = tmap.layout_from_lsh_forest(lf_ecfp4)"
   ]
  },
  {
   "cell_type": "code",
   "execution_count": 9,
   "id": "72e3737f",
   "metadata": {},
   "outputs": [],
   "source": [
    "from rdkit.Chem import rdMolDescriptors\n",
    "numrings = [rdMolDescriptors.CalcNumRings(Chem.MolFromSmiles(s)) for s in dff[\"ligandsm\"]]\n",
    "set(numrings)\n",
    "is_linear = [1 if r == 0 else 0 for r in numrings]"
   ]
  },
  {
   "cell_type": "code",
   "execution_count": 15,
   "id": "d9a64291",
   "metadata": {},
   "outputs": [
    {
     "data": {
      "text/html": [
       "\n",
       "        <iframe\n",
       "            width=\"100%\"\n",
       "            height=\"750\"\n",
       "            src=\"./ECFP4.html\"\n",
       "            frameborder=\"0\"\n",
       "            allowfullscreen\n",
       "            \n",
       "        ></iframe>\n",
       "        "
      ],
      "text/plain": [
       "<IPython.lib.display.IFrame at 0x2aaa9ad9e50>"
      ]
     },
     "metadata": {},
     "output_type": "display_data"
    },
    {
     "data": {
      "text/html": [
       "<a href='./ECFP4.html' target='_blank'>./ECFP4.html</a><br>"
      ],
      "text/plain": [
       "C:\\Users\\Administrator\\Desktop\\ECFP4.html"
      ]
     },
     "metadata": {},
     "output_type": "display_data"
    }
   ],
   "source": [
    "# Now plot the data\n",
    "faerun = Faerun(view=\"front\", coords=False)\n",
    "faerun.add_scatter(\n",
    "    \"ESOL_ECFP4\",\n",
    "    {   \"x\": x, \n",
    "        \"y\": y, \n",
    "        \"c\": [list(dff.nmetal.values), numrings, is_linear], \n",
    "        \"labels\": dff[\"ligandsm\"]},\n",
    "    point_scale=5,\n",
    "    colormap = ['rainbow', 'Set1'],\n",
    "    has_legend=True,\n",
    "    categorical=[False, True, True],\n",
    "    series_title = ['number of metal', 'Rings', 'is_linear'],\n",
    "    legend_labels = [None, None, [(0, \"No\"), (1, \"Yes\")]],\n",
    "    shader = 'smoothCircle'\n",
    ")\n",
    "\n",
    "faerun.add_tree(\"_ECFP4_tree\", {\"from\": s, \"to\": t}, point_helper=\"ESOL_ECFP4\")\n",
    "\n",
    "# Choose the \"smiles\" template to display structure on hover\n",
    "faerun.plot(\"ECFP4\",template=\"smiles\", notebook_height=750)"
   ]
  },
  {
   "cell_type": "code",
   "execution_count": null,
   "id": "4e031e1a",
   "metadata": {},
   "outputs": [],
   "source": []
  }
 ],
 "metadata": {
  "kernelspec": {
   "display_name": "Python 3 (ipykernel)",
   "language": "python",
   "name": "python3"
  },
  "language_info": {
   "codemirror_mode": {
    "name": "ipython",
    "version": 3
   },
   "file_extension": ".py",
   "mimetype": "text/x-python",
   "name": "python",
   "nbconvert_exporter": "python",
   "pygments_lexer": "ipython3",
   "version": "3.9.13"
  }
 },
 "nbformat": 4,
 "nbformat_minor": 5
}
