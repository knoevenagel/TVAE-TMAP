{
 "cells": [
  {
   "cell_type": "code",
   "execution_count": 72,
   "id": "ec06bf28",
   "metadata": {},
   "outputs": [],
   "source": [
    "import numpy as np\n",
    "import pandas as pd\n",
    "import sklearn\n",
    "from sklearn.preprocessing import StandardScaler\n",
    "import matplotlib.pyplot as plt\n",
    "\n",
    "import tmap\n",
    "from faerun import Faerun\n",
    "from mhfp.encoder import MHFPEncoder\n",
    "from rdkit.Chem import AllChem"
   ]
  },
  {
   "cell_type": "code",
   "execution_count": 77,
   "id": "d6012140",
   "metadata": {},
   "outputs": [],
   "source": [
    "import pickle\n",
    "\n",
    "# file = 'ligand_metal_VAE.pkl'\n",
    "\n",
    "file = 'ligand_pubchem_VAE_32.pkl'\n",
    "\n",
    "with open(file, 'rb') as f:\n",
    "    data = pickle.load(f)"
   ]
  },
  {
   "cell_type": "code",
   "execution_count": 161,
   "id": "1e72dda6",
   "metadata": {},
   "outputs": [
    {
     "data": {
      "text/plain": [
       "(2000, 2)"
      ]
     },
     "execution_count": 161,
     "metadata": {},
     "output_type": "execute_result"
    }
   ],
   "source": [
    "df = pd.read_csv(r'C:\\Users\\Administrator\\Desktop\\前2000.csv')\n",
    "df.shape"
   ]
  },
  {
   "cell_type": "code",
   "execution_count": 74,
   "id": "34d42fa7",
   "metadata": {},
   "outputs": [],
   "source": [
    "metals = [j for i,j in enumerate(data) if i % 4 == 1]\n",
    "\n",
    "mean_emd = np.array([j for i,j in enumerate(data) if i % 4 == 2],dtype='float64')\n",
    "std_emd = np.array([j for i,j in enumerate(data) if i % 4 == 3],dtype='float64')"
   ]
  },
  {
   "cell_type": "code",
   "execution_count": 141,
   "id": "83557d38",
   "metadata": {},
   "outputs": [
    {
     "data": {
      "text/plain": [
       "array([[-2.69825757e-03,  3.52687687e-02, -7.56738931e-02, ...,\n",
       "        -7.25361146e-03, -3.94158326e-02, -4.29012515e-02],\n",
       "       [ 5.30459546e-03,  2.90321726e-02,  1.30149826e-01, ...,\n",
       "        -6.87790103e-03,  2.83216000e-01, -4.67458740e-05],\n",
       "       [ 5.30182943e-03,  3.67771015e-02, -2.30401196e-02, ...,\n",
       "        -5.72439283e-03,  7.42072463e-02, -3.62446439e-03],\n",
       "       ...,\n",
       "       [-7.74282962e-04, -9.26772133e-03,  3.91541012e-02, ...,\n",
       "         4.41793352e-03,  1.86816633e-01,  2.19012983e-02],\n",
       "       [ 2.21711285e-02,  8.91620517e-02,  8.25511456e-01, ...,\n",
       "        -4.01651412e-02,  4.11146060e-02, -1.85164630e-01],\n",
       "       [ 2.11997703e-03, -4.61515039e-04, -5.12342602e-02, ...,\n",
       "         2.64071673e-03,  1.29593253e-01, -4.22082189e-03]])"
      ]
     },
     "execution_count": 141,
     "metadata": {},
     "output_type": "execute_result"
    }
   ],
   "source": [
    "mean_emd2000=mean_emd[0:2000]\n",
    "mean_emd2000"
   ]
  },
  {
   "cell_type": "code",
   "execution_count": null,
   "id": "c71b835e",
   "metadata": {},
   "outputs": [],
   "source": []
  },
  {
   "cell_type": "code",
   "execution_count": 153,
   "id": "2f0f530a",
   "metadata": {},
   "outputs": [],
   "source": [
    "\n",
    "fingerprints = [tmap.VectorFloat(s) for s in mean_emd2000]\n"
   ]
  },
  {
   "cell_type": "code",
   "execution_count": 151,
   "id": "8d61508d",
   "metadata": {},
   "outputs": [],
   "source": [
    "# Initialize the LSH Forest\n",
    "lf = tmap.LSHForest(32)\n",
    "tmap.LSHForest.batch_add\n",
    "# Add the Fingerprints to the LSH Forest and index\n",
    "lf.batch_add(tmap.Minhash(32).batch_from_weight_array(fingerprints))\n",
    "lf.index()"
   ]
  },
  {
   "cell_type": "code",
   "execution_count": 152,
   "id": "eb9b96f0",
   "metadata": {},
   "outputs": [],
   "source": [
    "# Get the coordinates\n",
    "x, y, s, t, _ = tmap.layout_from_lsh_forest(lf)"
   ]
  },
  {
   "cell_type": "code",
   "execution_count": 164,
   "id": "f168f07d",
   "metadata": {},
   "outputs": [
    {
     "data": {
      "text/html": [
       "\n",
       "        <iframe\n",
       "            width=\"100%\"\n",
       "            height=\"750\"\n",
       "            src=\"./ESOL_Basic.html\"\n",
       "            frameborder=\"0\"\n",
       "            allowfullscreen\n",
       "            \n",
       "        ></iframe>\n",
       "        "
      ],
      "text/plain": [
       "<IPython.lib.display.IFrame at 0x24230cbbe20>"
      ]
     },
     "metadata": {},
     "output_type": "display_data"
    },
    {
     "data": {
      "text/html": [
       "<a href='./ESOL_Basic.html' target='_blank'>./ESOL_Basic.html</a><br>"
      ],
      "text/plain": [
       "C:\\Users\\Administrator\\Desktop\\ESOL_Basic.html"
      ]
     },
     "metadata": {},
     "output_type": "display_data"
    }
   ],
   "source": [
    "# Now plot the data\n",
    "faerun = Faerun(view=\"front\", coords=False)\n",
    "faerun.add_scatter(\n",
    "    \"ESOL_Basic\",\n",
    "    {   \"x\": x, \n",
    "        \"y\": y, \n",
    "        \"c\": list(df.nmetal.values), \n",
    "        \"labels\": df[\"ligandsm\"]},\n",
    "    point_scale=5,\n",
    "    colormap = ['rainbow'],\n",
    "    has_legend=True,\n",
    "    legend_title = ['number of metal(embedding)'],\n",
    "    categorical=[False],\n",
    "    shader = 'smoothCircle'\n",
    ")\n",
    "\n",
    "faerun.add_tree(\"ESOL_Basic_tree\", {\"from\": s, \"to\": t}, point_helper=\"ESOL_Basic\")\n",
    "\n",
    "# Choose the \"smiles\" template to display structure on hover\n",
    "faerun.plot('ESOL_Basic', template=\"smiles\", notebook_height=750)"
   ]
  },
  {
   "cell_type": "code",
   "execution_count": null,
   "id": "d1bd9e6b",
   "metadata": {},
   "outputs": [],
   "source": []
  }
 ],
 "metadata": {
  "kernelspec": {
   "display_name": "Python 3 (ipykernel)",
   "language": "python",
   "name": "python3"
  },
  "language_info": {
   "codemirror_mode": {
    "name": "ipython",
    "version": 3
   },
   "file_extension": ".py",
   "mimetype": "text/x-python",
   "name": "python",
   "nbconvert_exporter": "python",
   "pygments_lexer": "ipython3",
   "version": "3.9.13"
  }
 },
 "nbformat": 4,
 "nbformat_minor": 5
}
