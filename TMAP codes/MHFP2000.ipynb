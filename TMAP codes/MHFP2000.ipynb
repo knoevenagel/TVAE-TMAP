{
 "cells": [
  {
   "cell_type": "code",
   "execution_count": 1,
   "id": "18ed51a3",
   "metadata": {},
   "outputs": [],
   "source": [
    "import pandas as pd\n",
    "import tmap\n",
    "from faerun import Faerun\n",
    "from mhfp.encoder import MHFPEncoder\n",
    "from rdkit.Chem import AllChem"
   ]
  },
  {
   "cell_type": "code",
   "execution_count": 2,
   "id": "88cdfe45",
   "metadata": {},
   "outputs": [
    {
     "data": {
      "text/plain": [
       "(2000, 2)"
      ]
     },
     "execution_count": 2,
     "metadata": {},
     "output_type": "execute_result"
    }
   ],
   "source": [
    "dff = pd.read_csv(r'C:\\Users\\Administrator\\Desktop\\前2000.csv')\n",
    "dff.shape"
   ]
  },
  {
   "cell_type": "code",
   "execution_count": 3,
   "id": "282a317a",
   "metadata": {},
   "outputs": [],
   "source": [
    "# The number of permutations used by the MinHashing algorithm\n",
    "perm = 512\n",
    "\n",
    "# Initializing the MHFP encoder with 512 permutations\n",
    "enc = MHFPEncoder(perm)\n",
    "\n",
    "# Create MHFP fingerprints from SMILES\n",
    "# The fingerprint vectors have to be of the tm.VectorUint data type\n",
    "fingerprints = [tmap.VectorUint(enc.encode(s)) for s in dff[\"ligandsm\"]]"
   ]
  },
  {
   "cell_type": "code",
   "execution_count": 4,
   "id": "0958a0b9",
   "metadata": {},
   "outputs": [],
   "source": [
    "# Initialize the LSH Forest\n",
    "lf = tmap.LSHForest(perm)\n",
    "\n",
    "# Add the Fingerprints to the LSH Forest and index\n",
    "lf.batch_add(fingerprints)\n",
    "lf.index()"
   ]
  },
  {
   "cell_type": "code",
   "execution_count": 5,
   "id": "676439e6",
   "metadata": {},
   "outputs": [],
   "source": [
    "# Get the coordinates\n",
    "x, y, s, t, _ = tmap.layout_from_lsh_forest(lf)"
   ]
  },
  {
   "cell_type": "code",
   "execution_count": 8,
   "id": "99df1c8e",
   "metadata": {},
   "outputs": [
    {
     "data": {
      "text/html": [
       "\n",
       "        <iframe\n",
       "            width=\"100%\"\n",
       "            height=\"750\"\n",
       "            src=\"./ESOL_Basic.html\"\n",
       "            frameborder=\"0\"\n",
       "            allowfullscreen\n",
       "            \n",
       "        ></iframe>\n",
       "        "
      ],
      "text/plain": [
       "<IPython.lib.display.IFrame at 0x2165e2e0400>"
      ]
     },
     "metadata": {},
     "output_type": "display_data"
    },
    {
     "data": {
      "text/html": [
       "<a href='./ESOL_Basic.html' target='_blank'>./ESOL_Basic.html</a><br>"
      ],
      "text/plain": [
       "C:\\Users\\Administrator\\Desktop\\ESOL_Basic.html"
      ]
     },
     "metadata": {},
     "output_type": "display_data"
    }
   ],
   "source": [
    "# Now plot the data\n",
    "faerun = Faerun(view=\"front\", coords=False)\n",
    "faerun.add_scatter(\n",
    "    \"ESOL_Basic\",\n",
    "    {   \"x\": x, \n",
    "        \"y\": y, \n",
    "        \"c\": list(dff.nmetal.values), \n",
    "        \"labels\": dff[\"ligandsm\"]},\n",
    "    point_scale=5,\n",
    "    colormap = ['rainbow'],\n",
    "    has_legend=True,\n",
    "    legend_title = ['number of metal(MHFP)'],\n",
    "    categorical=[False],\n",
    "    shader = 'smoothCircle'\n",
    ")\n",
    "\n",
    "faerun.add_tree(\"ESOL_Basic_tree\", {\"from\": s, \"to\": t}, point_helper=\"ESOL_Basic\")\n",
    "\n",
    "# Choose the \"smiles\" template to display structure on hover\n",
    "faerun.plot('ESOL_Basic', template=\"smiles\", notebook_height=750)"
   ]
  },
  {
   "cell_type": "code",
   "execution_count": null,
   "id": "4a51ab09",
   "metadata": {},
   "outputs": [],
   "source": []
  }
 ],
 "metadata": {
  "kernelspec": {
   "display_name": "Python 3 (ipykernel)",
   "language": "python",
   "name": "python3"
  },
  "language_info": {
   "codemirror_mode": {
    "name": "ipython",
    "version": 3
   },
   "file_extension": ".py",
   "mimetype": "text/x-python",
   "name": "python",
   "nbconvert_exporter": "python",
   "pygments_lexer": "ipython3",
   "version": "3.9.13"
  }
 },
 "nbformat": 4,
 "nbformat_minor": 5
}
